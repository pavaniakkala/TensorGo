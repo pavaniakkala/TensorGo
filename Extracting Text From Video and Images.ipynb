{
 "cells": [
  {
   "cell_type": "code",
   "execution_count": 1,
   "id": "c1ac4199",
   "metadata": {},
   "outputs": [
    {
     "name": "stdout",
     "output_type": "stream",
     "text": [
      "Extracted text: algorithms and worked on project called Diabetes Prediction where I used\n",
      "algorithms such as Logistic Regression, Decision Trees, and K-Nearest\n",
      "Neighbors.I analyzed input data like patient demographics and medical history\n",
      "to predict the likelihood of diabetes. The outcome was a predictive model\n",
      "that could assist in early detection and treatment planning.\n",
      "\n"
     ]
    }
   ],
   "source": [
    "from PIL import Image\n",
    "import pytesseract\n",
    "\n",
    "# Path to Tesseract executable (adjust if necessary)\n",
    "pytesseract.pytesseract.tesseract_cmd = r'C:\\Program Files\\Tesseract-OCR\\tesseract.exe'\n",
    "\n",
    "def extract_text_from_image(image_path):\n",
    "    \"\"\"\n",
    "    Extract text from an image using Tesseract OCR.\n",
    "    \"\"\"\n",
    "    # Load the image\n",
    "    image = Image.open(image_path)\n",
    "\n",
    "    # Perform OCR on the image\n",
    "    text = pytesseract.image_to_string(image)\n",
    "\n",
    "    return text\n",
    "\n",
    "# Test the function\n",
    "test_image_path = r\"C:\\Users\\PAVANI\\OneDrive\\Pictures\\Screenshots\\Screenshot 2024-09-03 231900.png\"\n",
    "extracted_text = extract_text_from_image(test_image_path)\n",
    "print(f'Extracted text: {extracted_text}')"
   ]
  },
  {
   "cell_type": "code",
   "execution_count": 2,
   "id": "47263998",
   "metadata": {
    "scrolled": true
   },
   "outputs": [
    {
     "name": "stdout",
     "output_type": "stream",
     "text": [
      "4\n",
      "\n",
      "JensorGo is a company focused on providing tools\n",
      "and solutions for machine learning and artificial\n",
      "intelligence. They offer a range of products and\n",
      "services that include:\n",
      "ine Learning Platforms: TensorGo provides platforms for developing, training, and depl\n",
      "line learning models, with support for various algorithms and frameworks.\n",
      "ita Management: They offer solutions for managing and preprocessing data, which is essential for\n",
      "training accurate machine learning models.\n",
      "“Consulting Services: TensorGo offers consulting services to help businesses integrate machine learnin,\n",
      "into their operations, optimize their models, and solve specific problems related to Al.\n"
     ]
    }
   ],
   "source": [
    "import cv2                                                                 \n",
    "from PIL import Image\n",
    "import pytesseract\n",
    "# Path to Tesseract executable (adjust if necessary)\n",
    "pytesseract.pytesseract.tesseract_cmd = r'C:\\Program Files\\Tesseract-OCR\\tesseract.exe'\n",
    "def extract_text_from_video(video_path, frame_skip=30):\n",
    "    \"\"\"\n",
    "    Extract text from a video by processing every nth frame.\n",
    "    \"\"\"\n",
    "    video_capture = cv2.VideoCapture(video_path)\n",
    "    all_text = \"\"\n",
    "    frame_count = 0\n",
    "\n",
    "    while True:\n",
    "        ret, frame = video_capture.read()\n",
    "        if not ret:\n",
    "            break\n",
    "        \n",
    "        # Process every nth frame\n",
    "        if frame_count % frame_skip == 0:\n",
    "            frame_text = extract_text_from_frame(frame)\n",
    "            all_text += frame_text.strip() + \"\\n\"\n",
    "        \n",
    "        frame_count += 1\n",
    "\n",
    "    video_capture.release()\n",
    "    return all_text\n",
    "\n",
    "def extract_text_from_frame(frame):\n",
    "    \"\"\"\n",
    "    Extract text from a single video frame using Tesseract OCR.\n",
    "    \"\"\"\n",
    "    # Convert the frame to a PIL image\n",
    "    pil_image = Image.fromarray(frame)\n",
    "\n",
    "    # Perform OCR on the image\n",
    "    text = pytesseract.image_to_string(pil_image)\n",
    "\n",
    "    return text\n",
    "\n",
    "def remove_duplicates(text):\n",
    "    \"\"\"\n",
    "    Remove duplicate lines from the extracted text.\n",
    "    \"\"\"\n",
    "    lines = text.splitlines()\n",
    "    unique_lines = list(dict.fromkeys(lines))  # Keeps the order while removing duplicates\n",
    "    return \"\\n\".join(unique_lines)\n",
    "\n",
    "test_video_path = r\"C:\\Users\\PAVANI\\Downloads\\MINIPROJECT\\video2.mp4\"\n",
    "extracted_text = extract_text_from_video(test_video_path)\n",
    "print(remove_duplicates(extracted_text))"
   ]
  },
  {
   "cell_type": "code",
   "execution_count": null,
   "id": "ff4b53be",
   "metadata": {},
   "outputs": [],
   "source": []
  }
 ],
 "metadata": {
  "kernelspec": {
   "display_name": "Python 3 (ipykernel)",
   "language": "python",
   "name": "python3"
  },
  "language_info": {
   "codemirror_mode": {
    "name": "ipython",
    "version": 3
   },
   "file_extension": ".py",
   "mimetype": "text/x-python",
   "name": "python",
   "nbconvert_exporter": "python",
   "pygments_lexer": "ipython3",
   "version": "3.10.9"
  }
 },
 "nbformat": 4,
 "nbformat_minor": 5
}
